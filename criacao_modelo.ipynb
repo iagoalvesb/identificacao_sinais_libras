{
 "cells": [
  {
   "cell_type": "markdown",
   "metadata": {},
   "source": [
    "# 1. Importando Dependencias"
   ]
  },
  {
   "cell_type": "code",
   "execution_count": 1,
   "metadata": {},
   "outputs": [],
   "source": [
    "import cv2\n",
    "import numpy as np\n",
    "import os\n",
    "from matplotlib import pyplot as plt\n",
    "import time\n",
    "import mediapipe as mp\n",
    "import pickle"
   ]
  },
  {
   "cell_type": "code",
   "execution_count": 2,
   "metadata": {},
   "outputs": [
    {
     "data": {
      "text/plain": [
       "{'DATA_PATH': 'MP_Data',\n",
       " 'actions': array(['oi', 'eu_amo_voce'], dtype='<U11'),\n",
       " 'no_sequences': 30,\n",
       " 'sequence_length': 30}"
      ]
     },
     "execution_count": 2,
     "metadata": {},
     "output_type": "execute_result"
    }
   ],
   "source": [
    "with open('config.pickle', 'rb') as handle:\n",
    "    config = pickle.load(handle)\n",
    "config"
   ]
  },
  {
   "cell_type": "markdown",
   "metadata": {},
   "source": [
    "## 1.1 - Funções importantes para detecção"
   ]
  },
  {
   "cell_type": "code",
   "execution_count": 3,
   "metadata": {},
   "outputs": [],
   "source": [
    "mp_holistic = mp.solutions.holistic # Holistic model\n",
    "mp_drawing = mp.solutions.drawing_utils # Drawing utils"
   ]
  },
  {
   "cell_type": "code",
   "execution_count": 4,
   "metadata": {},
   "outputs": [],
   "source": [
    "def mediapipe_detection(image, model):\n",
    "    image = cv2.cvtColor(image, cv2.COLOR_BGR2RGB) \n",
    "    image.flags.writeable = False                 \n",
    "    results = model.process(image)                \n",
    "    image.flags.writeable = True                  \n",
    "    image = cv2.cvtColor(image, cv2.COLOR_RGB2BGR)\n",
    "    return image, results"
   ]
  },
  {
   "cell_type": "code",
   "execution_count": 5,
   "metadata": {},
   "outputs": [],
   "source": [
    "def draw_landmarks(image, results):\n",
    "    mp_drawing.draw_landmarks(image, results.face_landmarks, mp_holistic.FACEMESH_CONTOURS) # Desenha conexões da face\n",
    "    mp_drawing.draw_landmarks(image, results.pose_landmarks, mp_holistic.POSE_CONNECTIONS) # Desenha conexões da pose\n",
    "    mp_drawing.draw_landmarks(image, results.left_hand_landmarks, mp_holistic.HAND_CONNECTIONS) # Desenha conexões da mão esquerda\n",
    "    mp_drawing.draw_landmarks(image, results.right_hand_landmarks, mp_holistic.HAND_CONNECTIONS) # Desenha conexões da mão direita"
   ]
  },
  {
   "cell_type": "code",
   "execution_count": 6,
   "metadata": {},
   "outputs": [],
   "source": [
    "def draw_styled_landmarks(image, results):\n",
    "    # Desenha conexões da face\n",
    "    mp_drawing.draw_landmarks(image, results.face_landmarks, mp_holistic.FACEMESH_CONTOURS, \n",
    "                             mp_drawing.DrawingSpec(color=(80,110,10), thickness=1, circle_radius=1), \n",
    "                             mp_drawing.DrawingSpec(color=(80,256,121), thickness=1, circle_radius=1)\n",
    "                             ) \n",
    "    # Desenha conexões da pose\n",
    "    mp_drawing.draw_landmarks(image, results.pose_landmarks, mp_holistic.POSE_CONNECTIONS,\n",
    "                             mp_drawing.DrawingSpec(color=(80,22,10), thickness=2, circle_radius=4), \n",
    "                             mp_drawing.DrawingSpec(color=(80,44,121), thickness=2, circle_radius=2)\n",
    "                             ) \n",
    "    # Desenha conexões da mão esquerda\n",
    "    mp_drawing.draw_landmarks(image, results.left_hand_landmarks, mp_holistic.HAND_CONNECTIONS, \n",
    "                             mp_drawing.DrawingSpec(color=(121,22,76), thickness=2, circle_radius=4), \n",
    "                             mp_drawing.DrawingSpec(color=(121,44,250), thickness=2, circle_radius=2)\n",
    "                             ) \n",
    "    # Desenha conexões da mão direita\n",
    "    mp_drawing.draw_landmarks(image, results.right_hand_landmarks, mp_holistic.HAND_CONNECTIONS, \n",
    "                             mp_drawing.DrawingSpec(color=(245,117,66), thickness=2, circle_radius=4), \n",
    "                             mp_drawing.DrawingSpec(color=(245,66,230), thickness=2, circle_radius=2)\n",
    "                             ) "
   ]
  },
  {
   "cell_type": "code",
   "execution_count": 7,
   "metadata": {},
   "outputs": [],
   "source": [
    "def extract_keypoints(results):\n",
    "    pose = np.array([[res.x, res.y, res.z, res.visibility] for res in results.pose_landmarks.landmark]).flatten() if results.pose_landmarks else np.zeros(33*4)\n",
    "    face = np.array([[res.x, res.y, res.z] for res in results.face_landmarks.landmark]).flatten() if results.face_landmarks else np.zeros(468*3)\n",
    "    lh = np.array([[res.x, res.y, res.z] for res in results.left_hand_landmarks.landmark]).flatten() if results.left_hand_landmarks else np.zeros(21*3)\n",
    "    rh = np.array([[res.x, res.y, res.z] for res in results.right_hand_landmarks.landmark]).flatten() if results.right_hand_landmarks else np.zeros(21*3)\n",
    "    return np.concatenate([pose, face, lh, rh])"
   ]
  },
  {
   "cell_type": "markdown",
   "metadata": {},
   "source": [
    "# 2. Pre-processando os dados e separando em treino/teste"
   ]
  },
  {
   "cell_type": "code",
   "execution_count": 8,
   "metadata": {},
   "outputs": [],
   "source": [
    "from sklearn.model_selection import train_test_split\n",
    "from tensorflow.keras.utils import to_categorical"
   ]
  },
  {
   "cell_type": "code",
   "execution_count": 9,
   "metadata": {},
   "outputs": [
    {
     "data": {
      "text/plain": [
       "{'oi': 0, 'eu_amo_voce': 1}"
      ]
     },
     "execution_count": 9,
     "metadata": {},
     "output_type": "execute_result"
    }
   ],
   "source": [
    "label_map = {label:num for num, label in enumerate(config['actions'])}\n",
    "label_map"
   ]
  },
  {
   "cell_type": "code",
   "execution_count": 10,
   "metadata": {},
   "outputs": [],
   "source": [
    "sequences, labels = [], []\n",
    "for action in config['actions']:\n",
    "    for sequence in np.array(os.listdir(os.path.join(config['DATA_PATH'], action))).astype(int):\n",
    "        window = []\n",
    "        for frame_num in range(config['sequence_length']):\n",
    "            res = np.load(os.path.join(config['DATA_PATH'], action, str(sequence), \"{}.npy\".format(frame_num)))\n",
    "            window.append(res)\n",
    "        sequences.append(window)\n",
    "        labels.append(label_map[action])"
   ]
  },
  {
   "cell_type": "code",
   "execution_count": 11,
   "metadata": {},
   "outputs": [
    {
     "data": {
      "text/plain": [
       "(60, 30, 1662)"
      ]
     },
     "execution_count": 11,
     "metadata": {},
     "output_type": "execute_result"
    }
   ],
   "source": [
    "X = np.array(sequences)\n",
    "X.shape"
   ]
  },
  {
   "cell_type": "code",
   "execution_count": 12,
   "metadata": {},
   "outputs": [],
   "source": [
    "y = to_categorical(labels).astype(int)"
   ]
  },
  {
   "cell_type": "code",
   "execution_count": 13,
   "metadata": {},
   "outputs": [],
   "source": [
    "X_train, X_test, y_train, y_test = train_test_split(X, y, test_size=0.05)"
   ]
  },
  {
   "cell_type": "code",
   "execution_count": 14,
   "metadata": {
    "scrolled": true
   },
   "outputs": [
    {
     "data": {
      "text/plain": [
       "(3, 2)"
      ]
     },
     "execution_count": 14,
     "metadata": {},
     "output_type": "execute_result"
    }
   ],
   "source": [
    "# temos 3 dados separados para teste\n",
    "y_test.shape"
   ]
  },
  {
   "cell_type": "markdown",
   "metadata": {},
   "source": [
    "# 3. Criando e Treinando a LSTM Neural Network"
   ]
  },
  {
   "cell_type": "code",
   "execution_count": 15,
   "metadata": {},
   "outputs": [],
   "source": [
    "from tensorflow.keras.models import Sequential\n",
    "from tensorflow.keras.layers import LSTM, Dense\n",
    "from tensorflow.keras.callbacks import TensorBoard"
   ]
  },
  {
   "cell_type": "code",
   "execution_count": 16,
   "metadata": {},
   "outputs": [],
   "source": [
    "model = Sequential()\n",
    "model.add(LSTM(64, return_sequences=True, activation='relu', input_shape=(30,1662)))\n",
    "model.add(LSTM(128, return_sequences=True, activation='relu'))\n",
    "model.add(LSTM(64, return_sequences=False, activation='relu'))\n",
    "model.add(Dense(64, activation='relu'))\n",
    "model.add(Dense(32, activation='relu'))\n",
    "model.add(Dense(config['actions'].shape[0], activation='softmax'))"
   ]
  },
  {
   "cell_type": "markdown",
   "metadata": {},
   "source": [
    "## Caso queira criar um modelo novo"
   ]
  },
  {
   "cell_type": "code",
   "execution_count": null,
   "metadata": {},
   "outputs": [],
   "source": [
    "log_dir = os.path.join('Logs')\n",
    "tb_callback = TensorBoard(log_dir=log_dir)"
   ]
  },
  {
   "cell_type": "code",
   "execution_count": 68,
   "metadata": {},
   "outputs": [],
   "source": [
    "model.compile(optimizer='Adam', loss='categorical_crossentropy', metrics=['categorical_accuracy'])"
   ]
  },
  {
   "cell_type": "code",
   "execution_count": 14,
   "metadata": {
    "scrolled": true
   },
   "outputs": [],
   "source": [
    "model.fit(X_train, y_train, epochs=2000, callbacks=[tb_callback])"
   ]
  },
  {
   "cell_type": "code",
   "execution_count": 36,
   "metadata": {},
   "outputs": [
    {
     "name": "stdout",
     "output_type": "stream",
     "text": [
      "Model: \"sequential_3\"\n",
      "_________________________________________________________________\n",
      " Layer (type)                Output Shape              Param #   \n",
      "=================================================================\n",
      " lstm_9 (LSTM)               (None, 30, 64)            442112    \n",
      "                                                                 \n",
      " lstm_10 (LSTM)              (None, 30, 128)           98816     \n",
      "                                                                 \n",
      " lstm_11 (LSTM)              (None, 64)                49408     \n",
      "                                                                 \n",
      " dense_8 (Dense)             (None, 64)                4160      \n",
      "                                                                 \n",
      " dense_9 (Dense)             (None, 32)                2080      \n",
      "                                                                 \n",
      " dense_10 (Dense)            (None, 2)                 66        \n",
      "                                                                 \n",
      "=================================================================\n",
      "Total params: 596642 (2.28 MB)\n",
      "Trainable params: 596642 (2.28 MB)\n",
      "Non-trainable params: 0 (0.00 Byte)\n",
      "_________________________________________________________________\n"
     ]
    }
   ],
   "source": [
    "model.summary()"
   ]
  },
  {
   "cell_type": "code",
   "execution_count": 12,
   "metadata": {},
   "outputs": [
    {
     "name": "stdout",
     "output_type": "stream",
     "text": [
      "WARNING:tensorflow:Compiled the loaded model, but the compiled metrics have yet to be built. `model.compile_metrics` will be empty until you train or evaluate the model.\n"
     ]
    },
    {
     "name": "stderr",
     "output_type": "stream",
     "text": [
      "D:\\Documents\\anaconda3\\envs\\visao_env\\lib\\site-packages\\keras\\src\\engine\\training.py:3000: UserWarning: You are saving your model as an HDF5 file via `model.save()`. This file format is considered legacy. We recommend using instead the native Keras format, e.g. `model.save('my_model.keras')`.\n",
      "  saving_api.save_model(\n"
     ]
    }
   ],
   "source": [
    "model.save('model.h5')"
   ]
  },
  {
   "cell_type": "markdown",
   "metadata": {},
   "source": [
    "## Caso queira carregar um modelo já treinado"
   ]
  },
  {
   "cell_type": "code",
   "execution_count": 17,
   "metadata": {},
   "outputs": [],
   "source": [
    "model_path = 'model.h5'\n",
    "model.load_weights(model_path)"
   ]
  },
  {
   "cell_type": "markdown",
   "metadata": {},
   "source": [
    "# 4. Testando em tempo real"
   ]
  },
  {
   "cell_type": "code",
   "execution_count": 18,
   "metadata": {},
   "outputs": [],
   "source": [
    "from scipy import stats"
   ]
  },
  {
   "cell_type": "code",
   "execution_count": 19,
   "metadata": {},
   "outputs": [],
   "source": [
    "colors = [(245,117,16), (117,245,16), (16,117,245)]\n",
    "def prob_viz(res, actions, input_frame, colors):\n",
    "    output_frame = input_frame.copy()\n",
    "    for num, prob in enumerate(res):\n",
    "        cv2.rectangle(output_frame, (0,60+num*40), (int(prob*100), 90+num*40), colors[num], -1)\n",
    "        cv2.putText(output_frame, actions[num], (0, 85+num*40), cv2.FONT_HERSHEY_SIMPLEX, 1, (255,255,255), 2, cv2.LINE_AA)\n",
    "        \n",
    "    return output_frame"
   ]
  },
  {
   "cell_type": "code",
   "execution_count": 20,
   "metadata": {},
   "outputs": [
    {
     "name": "stdout",
     "output_type": "stream",
     "text": [
      "1/1 [==============================] - 0s 257ms/step\n",
      "oi\n",
      "1/1 [==============================] - 0s 15ms/step\n",
      "oi\n",
      "1/1 [==============================] - 0s 15ms/step\n",
      "oi\n",
      "1/1 [==============================] - 0s 14ms/step\n",
      "oi\n",
      "1/1 [==============================] - 0s 15ms/step\n",
      "oi\n",
      "1/1 [==============================] - 0s 14ms/step\n",
      "oi\n",
      "1/1 [==============================] - 0s 15ms/step\n",
      "oi\n",
      "1/1 [==============================] - 0s 14ms/step\n",
      "oi\n",
      "1/1 [==============================] - 0s 24ms/step\n",
      "oi\n",
      "1/1 [==============================] - 0s 14ms/step\n",
      "oi\n",
      "1/1 [==============================] - 0s 14ms/step\n",
      "oi\n",
      "1/1 [==============================] - 0s 14ms/step\n",
      "oi\n",
      "1/1 [==============================] - 0s 14ms/step\n",
      "oi\n",
      "1/1 [==============================] - 0s 13ms/step\n",
      "oi\n",
      "1/1 [==============================] - 0s 14ms/step\n",
      "oi\n",
      "1/1 [==============================] - 0s 14ms/step\n",
      "oi\n",
      "1/1 [==============================] - 0s 14ms/step\n",
      "oi\n",
      "1/1 [==============================] - 0s 14ms/step\n",
      "oi\n",
      "1/1 [==============================] - 0s 14ms/step\n",
      "oi\n",
      "1/1 [==============================] - 0s 15ms/step\n",
      "oi\n",
      "1/1 [==============================] - 0s 14ms/step\n",
      "oi\n",
      "1/1 [==============================] - 0s 14ms/step\n",
      "oi\n",
      "1/1 [==============================] - 0s 14ms/step\n",
      "oi\n",
      "1/1 [==============================] - 0s 14ms/step\n",
      "oi\n",
      "1/1 [==============================] - 0s 14ms/step\n",
      "oi\n",
      "1/1 [==============================] - 0s 14ms/step\n",
      "oi\n",
      "1/1 [==============================] - 0s 14ms/step\n",
      "oi\n",
      "1/1 [==============================] - 0s 14ms/step\n",
      "oi\n",
      "1/1 [==============================] - 0s 14ms/step\n",
      "oi\n",
      "1/1 [==============================] - 0s 14ms/step\n",
      "oi\n",
      "1/1 [==============================] - 0s 14ms/step\n",
      "oi\n",
      "1/1 [==============================] - 0s 14ms/step\n",
      "oi\n",
      "1/1 [==============================] - 0s 14ms/step\n",
      "oi\n",
      "1/1 [==============================] - 0s 14ms/step\n",
      "oi\n",
      "1/1 [==============================] - 0s 14ms/step\n",
      "oi\n",
      "1/1 [==============================] - 0s 14ms/step\n",
      "oi\n",
      "1/1 [==============================] - 0s 14ms/step\n",
      "oi\n",
      "1/1 [==============================] - 0s 14ms/step\n",
      "oi\n",
      "1/1 [==============================] - 0s 13ms/step\n",
      "oi\n",
      "1/1 [==============================] - 0s 14ms/step\n",
      "oi\n",
      "1/1 [==============================] - 0s 13ms/step\n",
      "oi\n",
      "1/1 [==============================] - 0s 14ms/step\n",
      "oi\n",
      "1/1 [==============================] - 0s 15ms/step\n",
      "oi\n",
      "1/1 [==============================] - 0s 15ms/step\n",
      "oi\n",
      "1/1 [==============================] - 0s 15ms/step\n",
      "oi\n",
      "1/1 [==============================] - 0s 14ms/step\n",
      "oi\n",
      "1/1 [==============================] - 0s 14ms/step\n",
      "oi\n",
      "1/1 [==============================] - 0s 15ms/step\n",
      "oi\n",
      "1/1 [==============================] - 0s 14ms/step\n",
      "oi\n",
      "1/1 [==============================] - 0s 15ms/step\n",
      "oi\n",
      "1/1 [==============================] - 0s 15ms/step\n",
      "oi\n",
      "1/1 [==============================] - 0s 17ms/step\n",
      "oi\n",
      "1/1 [==============================] - 0s 17ms/step\n",
      "oi\n",
      "1/1 [==============================] - 0s 16ms/step\n",
      "oi\n",
      "1/1 [==============================] - 0s 16ms/step\n",
      "oi\n",
      "1/1 [==============================] - 0s 15ms/step\n",
      "oi\n",
      "1/1 [==============================] - 0s 15ms/step\n",
      "oi\n",
      "1/1 [==============================] - 0s 16ms/step\n",
      "oi\n",
      "1/1 [==============================] - 0s 15ms/step\n",
      "oi\n",
      "1/1 [==============================] - 0s 15ms/step\n",
      "oi\n",
      "1/1 [==============================] - 0s 14ms/step\n",
      "oi\n",
      "1/1 [==============================] - 0s 16ms/step\n",
      "oi\n",
      "1/1 [==============================] - 0s 15ms/step\n",
      "oi\n",
      "1/1 [==============================] - 0s 15ms/step\n",
      "oi\n",
      "1/1 [==============================] - 0s 15ms/step\n",
      "oi\n",
      "1/1 [==============================] - 0s 15ms/step\n",
      "oi\n",
      "1/1 [==============================] - 0s 15ms/step\n",
      "oi\n",
      "1/1 [==============================] - 0s 15ms/step\n",
      "oi\n",
      "1/1 [==============================] - 0s 14ms/step\n",
      "oi\n",
      "1/1 [==============================] - 0s 14ms/step\n",
      "oi\n",
      "1/1 [==============================] - 0s 15ms/step\n",
      "oi\n",
      "1/1 [==============================] - 0s 14ms/step\n",
      "oi\n",
      "1/1 [==============================] - 0s 14ms/step\n",
      "oi\n",
      "1/1 [==============================] - 0s 14ms/step\n",
      "oi\n",
      "1/1 [==============================] - 0s 13ms/step\n",
      "oi\n",
      "1/1 [==============================] - 0s 14ms/step\n",
      "oi\n",
      "1/1 [==============================] - 0s 14ms/step\n",
      "oi\n",
      "1/1 [==============================] - 0s 14ms/step\n",
      "oi\n",
      "1/1 [==============================] - 0s 14ms/step\n",
      "oi\n",
      "1/1 [==============================] - 0s 15ms/step\n",
      "oi\n",
      "1/1 [==============================] - 0s 15ms/step\n",
      "oi\n",
      "1/1 [==============================] - 0s 16ms/step\n",
      "oi\n",
      "1/1 [==============================] - 0s 15ms/step\n",
      "oi\n",
      "1/1 [==============================] - 0s 15ms/step\n",
      "oi\n",
      "1/1 [==============================] - 0s 14ms/step\n",
      "oi\n",
      "1/1 [==============================] - 0s 15ms/step\n",
      "oi\n",
      "1/1 [==============================] - 0s 14ms/step\n",
      "oi\n",
      "1/1 [==============================] - 0s 14ms/step\n",
      "oi\n",
      "1/1 [==============================] - 0s 14ms/step\n",
      "oi\n",
      "1/1 [==============================] - 0s 14ms/step\n",
      "oi\n",
      "1/1 [==============================] - 0s 14ms/step\n",
      "oi\n",
      "1/1 [==============================] - 0s 14ms/step\n",
      "oi\n",
      "1/1 [==============================] - 0s 15ms/step\n",
      "oi\n",
      "1/1 [==============================] - 0s 14ms/step\n",
      "oi\n",
      "1/1 [==============================] - 0s 14ms/step\n",
      "oi\n",
      "1/1 [==============================] - 0s 15ms/step\n",
      "oi\n",
      "1/1 [==============================] - 0s 14ms/step\n",
      "oi\n",
      "1/1 [==============================] - 0s 14ms/step\n",
      "oi\n",
      "1/1 [==============================] - 0s 14ms/step\n",
      "oi\n",
      "1/1 [==============================] - 0s 15ms/step\n",
      "oi\n",
      "1/1 [==============================] - 0s 14ms/step\n",
      "oi\n",
      "1/1 [==============================] - 0s 14ms/step\n",
      "oi\n",
      "1/1 [==============================] - 0s 14ms/step\n",
      "oi\n",
      "1/1 [==============================] - 0s 14ms/step\n",
      "oi\n",
      "1/1 [==============================] - 0s 14ms/step\n",
      "oi\n",
      "1/1 [==============================] - 0s 13ms/step\n",
      "oi\n",
      "1/1 [==============================] - 0s 15ms/step\n",
      "oi\n",
      "1/1 [==============================] - 0s 14ms/step\n",
      "oi\n",
      "1/1 [==============================] - 0s 14ms/step\n",
      "oi\n",
      "1/1 [==============================] - 0s 14ms/step\n",
      "oi\n",
      "1/1 [==============================] - 0s 14ms/step\n",
      "oi\n",
      "1/1 [==============================] - 0s 15ms/step\n",
      "oi\n",
      "1/1 [==============================] - 0s 14ms/step\n",
      "oi\n",
      "1/1 [==============================] - 0s 14ms/step\n",
      "oi\n",
      "1/1 [==============================] - 0s 15ms/step\n",
      "oi\n",
      "1/1 [==============================] - 0s 15ms/step\n",
      "oi\n",
      "1/1 [==============================] - 0s 14ms/step\n",
      "oi\n",
      "1/1 [==============================] - 0s 14ms/step\n",
      "oi\n",
      "1/1 [==============================] - 0s 14ms/step\n",
      "oi\n",
      "1/1 [==============================] - 0s 14ms/step\n",
      "oi\n",
      "1/1 [==============================] - 0s 14ms/step\n",
      "oi\n",
      "1/1 [==============================] - 0s 14ms/step\n",
      "oi\n",
      "1/1 [==============================] - 0s 14ms/step\n",
      "oi\n",
      "1/1 [==============================] - 0s 15ms/step\n",
      "oi\n",
      "1/1 [==============================] - 0s 14ms/step\n",
      "oi\n",
      "1/1 [==============================] - 0s 15ms/step\n",
      "oi\n",
      "1/1 [==============================] - 0s 14ms/step\n",
      "oi\n",
      "1/1 [==============================] - 0s 14ms/step\n",
      "oi\n",
      "1/1 [==============================] - 0s 16ms/step\n",
      "oi\n",
      "1/1 [==============================] - 0s 14ms/step\n",
      "oi\n",
      "1/1 [==============================] - 0s 15ms/step\n",
      "oi\n",
      "1/1 [==============================] - 0s 14ms/step\n",
      "oi\n",
      "1/1 [==============================] - 0s 14ms/step\n",
      "oi\n",
      "1/1 [==============================] - 0s 15ms/step\n",
      "oi\n",
      "1/1 [==============================] - 0s 14ms/step\n",
      "oi\n",
      "1/1 [==============================] - 0s 14ms/step\n",
      "oi\n",
      "1/1 [==============================] - 0s 15ms/step\n",
      "oi\n",
      "1/1 [==============================] - 0s 14ms/step\n",
      "oi\n",
      "1/1 [==============================] - 0s 14ms/step\n",
      "oi\n",
      "1/1 [==============================] - 0s 14ms/step\n",
      "oi\n",
      "1/1 [==============================] - 0s 14ms/step\n",
      "oi\n",
      "1/1 [==============================] - 0s 14ms/step\n",
      "oi\n",
      "1/1 [==============================] - 0s 14ms/step\n",
      "oi\n",
      "1/1 [==============================] - 0s 14ms/step\n",
      "oi\n",
      "1/1 [==============================] - 0s 13ms/step\n",
      "oi\n",
      "1/1 [==============================] - 0s 14ms/step\n",
      "oi\n",
      "1/1 [==============================] - 0s 15ms/step\n",
      "oi\n",
      "1/1 [==============================] - 0s 14ms/step\n",
      "oi\n",
      "1/1 [==============================] - 0s 15ms/step\n"
     ]
    },
    {
     "name": "stdout",
     "output_type": "stream",
     "text": [
      "oi\n",
      "1/1 [==============================] - 0s 14ms/step\n",
      "oi\n",
      "1/1 [==============================] - 0s 14ms/step\n",
      "oi\n",
      "1/1 [==============================] - 0s 14ms/step\n",
      "oi\n",
      "1/1 [==============================] - 0s 15ms/step\n",
      "oi\n",
      "1/1 [==============================] - 0s 14ms/step\n",
      "oi\n",
      "1/1 [==============================] - 0s 14ms/step\n",
      "oi\n",
      "1/1 [==============================] - 0s 14ms/step\n",
      "oi\n",
      "1/1 [==============================] - 0s 15ms/step\n",
      "oi\n",
      "1/1 [==============================] - 0s 14ms/step\n",
      "oi\n",
      "1/1 [==============================] - 0s 13ms/step\n",
      "oi\n",
      "1/1 [==============================] - 0s 13ms/step\n",
      "oi\n",
      "1/1 [==============================] - 0s 14ms/step\n",
      "oi\n",
      "1/1 [==============================] - 0s 15ms/step\n",
      "oi\n",
      "1/1 [==============================] - 0s 14ms/step\n",
      "oi\n",
      "1/1 [==============================] - 0s 13ms/step\n",
      "oi\n",
      "1/1 [==============================] - 0s 14ms/step\n",
      "oi\n",
      "1/1 [==============================] - 0s 14ms/step\n",
      "oi\n",
      "1/1 [==============================] - 0s 14ms/step\n",
      "oi\n",
      "1/1 [==============================] - 0s 14ms/step\n",
      "oi\n",
      "1/1 [==============================] - 0s 14ms/step\n",
      "oi\n",
      "1/1 [==============================] - 0s 14ms/step\n",
      "oi\n",
      "1/1 [==============================] - 0s 14ms/step\n",
      "oi\n",
      "1/1 [==============================] - 0s 13ms/step\n",
      "oi\n",
      "1/1 [==============================] - 0s 14ms/step\n",
      "oi\n"
     ]
    }
   ],
   "source": [
    "# Variáveis de detecção\n",
    "sequence = []\n",
    "sentence = []\n",
    "predictions = []\n",
    "threshold = 0.5\n",
    "\n",
    "cap = cv2.VideoCapture(0)\n",
    "\n",
    "with mp_holistic.Holistic(min_detection_confidence=0.5, min_tracking_confidence=0.5) as holistic:\n",
    "    while cap.isOpened():\n",
    "\n",
    "        # Leitura da camera\n",
    "        ret, frame = cap.read()\n",
    "\n",
    "        # Faz as conexões\n",
    "        image, results = mediapipe_detection(frame, holistic)\n",
    "        \n",
    "        # Desenha landmarks\n",
    "        draw_styled_landmarks(image, results)\n",
    "        \n",
    "        # Lógica para predição\n",
    "        keypoints = extract_keypoints(results)\n",
    "        sequence.append(keypoints)\n",
    "        sequence = sequence[-30:]\n",
    "        \n",
    "        if len(sequence) == 30:\n",
    "            res = model.predict(np.expand_dims(sequence, axis=0))[0]\n",
    "            print(config['actions'][np.argmax(res)])\n",
    "            predictions.append(np.argmax(res))\n",
    "            \n",
    "            \n",
    "        #Viz logic\n",
    "            if np.unique(predictions[-10:])[0]==np.argmax(res): \n",
    "                if res[np.argmax(res)] > threshold: \n",
    "                    \n",
    "                    if len(sentence) > 0: \n",
    "                        if config['actions'][np.argmax(res)] != sentence[-1]:\n",
    "                            sentence.append(config['actions'][np.argmax(res)])\n",
    "                    else:\n",
    "                        sentence.append(config['actions'][np.argmax(res)])\n",
    "\n",
    "            if len(sentence) > 5: \n",
    "                sentence = sentence[-5:]\n",
    "\n",
    "            # Viz probabilities\n",
    "            image = prob_viz(res, config['actions'], image, colors)\n",
    "            \n",
    "        cv2.rectangle(image, (0,0), (640, 40), (245, 117, 16), -1)\n",
    "        cv2.putText(image, ' '.join(sentence), (3,30), \n",
    "                       cv2.FONT_HERSHEY_SIMPLEX, 1, (255, 255, 255), 2, cv2.LINE_AA)\n",
    "        \n",
    "        # Mostra na tela\n",
    "        cv2.imshow('OpenCV Feed', image)\n",
    "\n",
    "        # Pressione q para interromper\n",
    "        if cv2.waitKey(10) & 0xFF == ord('q'):\n",
    "            break\n",
    "    cap.release()\n",
    "    cv2.destroyAllWindows()"
   ]
  }
 ],
 "metadata": {
  "kernelspec": {
   "display_name": "visao_env",
   "language": "python",
   "name": "visao_env"
  },
  "language_info": {
   "codemirror_mode": {
    "name": "ipython",
    "version": 3
   },
   "file_extension": ".py",
   "mimetype": "text/x-python",
   "name": "python",
   "nbconvert_exporter": "python",
   "pygments_lexer": "ipython3",
   "version": "3.9.17"
  }
 },
 "nbformat": 4,
 "nbformat_minor": 2
}
